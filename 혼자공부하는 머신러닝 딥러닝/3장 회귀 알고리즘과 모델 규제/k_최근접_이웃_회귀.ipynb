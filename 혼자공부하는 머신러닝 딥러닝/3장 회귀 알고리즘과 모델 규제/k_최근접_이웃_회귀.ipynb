{
  "nbformat": 4,
  "nbformat_minor": 0,
  "metadata": {
    "colab": {
      "provenance": [],
      "collapsed_sections": []
    },
    "kernelspec": {
      "name": "python3",
      "display_name": "Python 3"
    },
    "language_info": {
      "name": "python"
    }
  },
  "cells": [
    {
      "cell_type": "code",
      "execution_count": null,
      "metadata": {
        "id": "V-zNnHGrUiWh"
      },
      "outputs": [],
      "source": [
        "# 지도 학습은 분류와 회귀로 나뉨"
      ]
    },
    {
      "cell_type": "code",
      "source": [
        "import numpy as np"
      ],
      "metadata": {
        "id": "OsqSdOyfW0HK"
      },
      "execution_count": null,
      "outputs": []
    },
    {
      "cell_type": "code",
      "source": [
        "# 농어의 무게와 길이"
      ],
      "metadata": {
        "id": "Sn0MiRewXCOr"
      },
      "execution_count": null,
      "outputs": []
    },
    {
      "cell_type": "code",
      "source": [
        "perch_length = np.array([8.4, 13.7, 15.0, 16.2, 17.4, 18.0, 18.7, 19.0, 19.6, 20.0, 21.0,\n",
        "       21.0, 21.0, 21.3, 22.0, 22.0, 22.0, 22.0, 22.0, 22.5, 22.5, 22.7,\n",
        "       23.0, 23.5, 24.0, 24.0, 24.6, 25.0, 25.6, 26.5, 27.3, 27.5, 27.5,\n",
        "       27.5, 28.0, 28.7, 30.0, 32.8, 34.5, 35.0, 36.5, 36.0, 37.0, 37.0,\n",
        "       39.0, 39.0, 39.0, 40.0, 40.0, 40.0, 40.0, 42.0, 43.0, 43.0, 43.5,\n",
        "       44.0])"
      ],
      "metadata": {
        "id": "N7BX_pgcW2jL"
      },
      "execution_count": null,
      "outputs": []
    },
    {
      "cell_type": "code",
      "source": [
        "perch_weight = np.array([5.9, 32.0, 40.0, 51.5, 70.0, 100.0, 78.0, 80.0, 85.0, 85.0, 110.0,\n",
        "       115.0, 125.0, 130.0, 120.0, 120.0, 130.0, 135.0, 110.0, 130.0,\n",
        "       150.0, 145.0, 150.0, 170.0, 225.0, 145.0, 188.0, 180.0, 197.0,\n",
        "       218.0, 300.0, 260.0, 265.0, 250.0, 250.0, 300.0, 320.0, 514.0,\n",
        "       556.0, 840.0, 685.0, 700.0, 700.0, 690.0, 900.0, 650.0, 820.0,\n",
        "       850.0, 900.0, 1015.0, 820.0, 1100.0, 1000.0, 1100.0, 1000.0,\n",
        "       1000.0])"
      ],
      "metadata": {
        "id": "wzAIiVFxW-lP"
      },
      "execution_count": null,
      "outputs": []
    },
    {
      "cell_type": "code",
      "source": [
        "import matplotlib.pyplot as plt  # 그래프를 그리기 위해 맷플롭립 임포트"
      ],
      "metadata": {
        "id": "KX5wFhN5XBAU"
      },
      "execution_count": null,
      "outputs": []
    },
    {
      "cell_type": "code",
      "source": [
        "plt.scatter(perch_length, perch_weight)  # 산점도를 그리기 위해 scatter 함수 길이가 x축, 무게가 y축\n",
        "plt.xlabel('length')\n",
        "plt.ylabel('weight')\n",
        "plt.show()"
      ],
      "metadata": {
        "id": "zr71inJFXSND",
        "colab": {
          "base_uri": "https://localhost:8080/",
          "height": 279
        },
        "outputId": "92a198e7-422e-42cd-8a7e-e521c734aa47"
      },
      "execution_count": 8,
      "outputs": [
        {
          "output_type": "display_data",
          "data": {
            "text/plain": [
              "<Figure size 432x288 with 1 Axes>"
            ],
            "image/png": "[encoded data removed]"
          },
          "metadata": {
            "needs_background": "light"
          }
        }
      ]
    },
    {
      "cell_type": "code",
      "source": [
        "from sklearn.model_selection import train_test_split # 훈련 세트와 테스트 세트를 나누기 위해 사이킷런에서 함수를 불러온다\n",
        "train_input, test_input, train_target, test_target = train_test_split(perch_length, perch_weight, random_state=42)\n",
        "# 이번 연습에서는 input이 길이, target이 무게이다. random_state 함수는 시드값으로 실습과 책의 값이 같게하기 위해서 설정한 값이다.\n"
      ],
      "metadata": {
        "id": "IOYJ_rYaZf8Q"
      },
      "execution_count": 21,
      "outputs": []
    },
    {
      "cell_type": "code",
      "source": [
        "#scikit-learn에서 사용할 훈련세트는 2차원 배열이여야한다."
      ],
      "metadata": {
        "id": "cemLedz1ayro"
      },
      "execution_count": 15,
      "outputs": []
    },
    {
      "cell_type": "code",
      "source": [
        "test_array = np.array([1,2,3,4]) # 현재는 1차원인 상태, 넘파이에서 배열의 크기는 파이썬의 튜플 형태로 표현한다.\n",
        "print(test_array.shape)"
      ],
      "metadata": {
        "colab": {
          "base_uri": "https://localhost:8080/"
        },
        "id": "J5UX_QITb1GI",
        "outputId": "c9dcaca3-1976-4a83-e5a2-6bdc65851549"
      },
      "execution_count": 12,
      "outputs": [
        {
          "output_type": "stream",
          "name": "stdout",
          "text": [
            "(4,)\n"
          ]
        }
      ]
    },
    {
      "cell_type": "code",
      "source": [
        "test_array = test_array.reshape(2, 2)  # 2행 2열인 2차원 배열로 바뀌었다.\n",
        "print(test_array.shape)"
      ],
      "metadata": {
        "colab": {
          "base_uri": "https://localhost:8080/"
        },
        "id": "BLQdqTfSb-9c",
        "outputId": "6777b66f-b772-4b09-d633-39805b4d2997"
      },
      "execution_count": 13,
      "outputs": [
        {
          "output_type": "stream",
          "name": "stdout",
          "text": [
            "(2, 2)\n"
          ]
        }
      ]
    },
    {
      "cell_type": "code",
      "source": [
        "# reshape() 메서드는 원본 배열의 원소 개수가 다르면 안된다.\n",
        "# ex) (4, ) 크기의 1차원 배열을 (2, 3) 크기의 2차원 배열로 바꾸기에는 원소의 개수가 맞지 않아 오류가 발생한다."
      ],
      "metadata": {
        "id": "cyLS-s75cPIh"
      },
      "execution_count": 14,
      "outputs": []
    },
    {
      "cell_type": "code",
      "source": [
        "train_input = train_input.reshape(-1, 1)\n",
        "test_input = test_input.reshape(-1, 1)\n",
        "print(train_input.shape, test_input.shape )\n",
        "# 여기서 -1을 넣는 이유는 -1을 넣으면 크기를 기억하지 않아도 알아서 자동으로 크기에 맞추어 변형해준다."
      ],
      "metadata": {
        "colab": {
          "base_uri": "https://localhost:8080/"
        },
        "id": "V8tHOq9gciSu",
        "outputId": "8a7a2bad-af99-4ca3-f56d-489de353539b"
      },
      "execution_count": 22,
      "outputs": [
        {
          "output_type": "stream",
          "name": "stdout",
          "text": [
            "(42, 1) (14, 1)\n"
          ]
        }
      ]
    },
    {
      "cell_type": "code",
      "source": [
        "from sklearn.neighbors import KNeighborsRegressor  # 사이킷런의 k-최근접 이웃 회귀 알고리즘 클래스\n",
        "knr = KNeighborsRegressor()\n",
        "knr.fit(train_input, train_target) # fit은 훈련"
      ],
      "metadata": {
        "colab": {
          "base_uri": "https://localhost:8080/"
        },
        "id": "6bnOtsqXdxd5",
        "outputId": "1c00a42c-1a19-4678-f313-26de99289123"
      },
      "execution_count": 24,
      "outputs": [
        {
          "output_type": "execute_result",
          "data": {
            "text/plain": [
              "KNeighborsRegressor()"
            ]
          },
          "metadata": {},
          "execution_count": 24
        }
      ]
    },
    {
      "cell_type": "code",
      "source": [
        "print(knr.score(test_input, test_target)) # 분류에서는 정확도 점수, 회귀에서는 결정계수 = R * R"
      ],
      "metadata": {
        "colab": {
          "base_uri": "https://localhost:8080/"
        },
        "id": "kFftzPnGhbbO",
        "outputId": "11457139-9793-41d0-c8d3-ca5a8c855896"
      },
      "execution_count": 26,
      "outputs": [
        {
          "output_type": "stream",
          "name": "stdout",
          "text": [
            "0.992809406101064\n"
          ]
        }
      ]
    },
    {
      "cell_type": "code",
      "source": [
        "# R * R = (타깃 - 예측)*(타깃 - 예측)의 합 / (타깃 - 평균)*(타깃 - 평균)의 합"
      ],
      "metadata": {
        "id": "jIL6qB8CiQuB"
      },
      "execution_count": 27,
      "outputs": []
    },
    {
      "cell_type": "code",
      "source": [
        "# 결정계수가 1에 가까우면 예측이 타깃과 아주 가까운것이다."
      ],
      "metadata": {
        "id": "o7PXiisRimZ2"
      },
      "execution_count": 28,
      "outputs": []
    },
    {
      "cell_type": "code",
      "source": [
        "from sklearn.metrics import mean_absolute_error  # sklearn.metrics 패키지는 여러 가지 측정 도구를 제공한다.\n",
        "# mean_absolute_error는 타깃과 예측의 절댓값 오차를 평균하여 반환한다.\n",
        "\n",
        "test_prediction = knr.predict(test_input)\n",
        "mae = mean_absolute_error(test_target, test_prediction)\n",
        "print(mae)"
      ],
      "metadata": {
        "colab": {
          "base_uri": "https://localhost:8080/"
        },
        "id": "9zrNqlN4i5Jl",
        "outputId": "cca8da4f-53ca-4aaf-e72a-e8accd9534f7"
      },
      "execution_count": 29,
      "outputs": [
        {
          "output_type": "stream",
          "name": "stdout",
          "text": [
            "19.157142857142862\n"
          ]
        }
      ]
    },
    {
      "cell_type": "code",
      "source": [
        "# 여기서는 19g 정도 차이가 난다."
      ],
      "metadata": {
        "id": "6WFkwgFTjni6"
      },
      "execution_count": 30,
      "outputs": []
    },
    {
      "cell_type": "code",
      "source": [
        "print(knr.score(train_input, train_target))"
      ],
      "metadata": {
        "colab": {
          "base_uri": "https://localhost:8080/"
        },
        "id": "1WEjlEqsjqaH",
        "outputId": "b5046b0a-f6c0-41cb-cad5-33812b632988"
      },
      "execution_count": 31,
      "outputs": [
        {
          "output_type": "stream",
          "name": "stdout",
          "text": [
            "0.9698823289099254\n"
          ]
        }
      ]
    },
    {
      "cell_type": "code",
      "source": [
        "# 훈련세트보다 테스트 세트의 점수가 높으니 과소적합"
      ],
      "metadata": {
        "id": "NHnreGpEj1vv"
      },
      "execution_count": 32,
      "outputs": []
    },
    {
      "cell_type": "code",
      "source": [
        "# 사이킷 런의 k-최근접 이웃 알고리즘의 기본 k 값은 5 이를 3으로 낮춘다. 이러면 모델이 좀 더 복잡해질 것이다."
      ],
      "metadata": {
        "id": "5sNcF_mdkPaC"
      },
      "execution_count": 33,
      "outputs": []
    },
    {
      "cell_type": "code",
      "source": [
        "knr.n_neighbors = 3"
      ],
      "metadata": {
        "id": "qDH_0-IJkl6-"
      },
      "execution_count": 34,
      "outputs": []
    },
    {
      "cell_type": "code",
      "source": [
        "knr.fit(train_input, train_target)\n",
        "print(knr.score(train_input, train_target))"
      ],
      "metadata": {
        "colab": {
          "base_uri": "https://localhost:8080/"
        },
        "id": "PVeXtflYko4L",
        "outputId": "d06939d6-8ad4-4d55-e954-f9ec0217f359"
      },
      "execution_count": 35,
      "outputs": [
        {
          "output_type": "stream",
          "name": "stdout",
          "text": [
            "0.9804899950518966\n"
          ]
        }
      ]
    },
    {
      "cell_type": "code",
      "source": [
        "print(knr.score(test_input, test_target))"
      ],
      "metadata": {
        "colab": {
          "base_uri": "https://localhost:8080/"
        },
        "id": "qR1jx68bkxUU",
        "outputId": "a6c668e3-5553-4e50-dbdd-5a94e2443462"
      },
      "execution_count": 36,
      "outputs": [
        {
          "output_type": "stream",
          "name": "stdout",
          "text": [
            "0.9746459963987609\n"
          ]
        }
      ]
    },
    {
      "cell_type": "code",
      "source": [
        "# 훈련 세트의 점수가 높아지고 테스트 세트의 점수는 낮아졌지만 둘 사이의 차이가 그렇게 크지 않으므로 과속적합은 해결되었고 과대적합이지도 않다."
      ],
      "metadata": {
        "id": "MJGl39WDk-Tx"
      },
      "execution_count": 37,
      "outputs": []
    },
    {
      "cell_type": "code",
      "source": [
        "# 과대적합일 경우 모델을 덜 복잡하게 만들기 위해 k의 값을 늘린다.\n",
        "# 과속적합일 경우 모델을 더 복잡하게 만들기 위해 k의 값을 줄인다."
      ],
      "metadata": {
        "id": "sSJWvhKilIxJ"
      },
      "execution_count": 39,
      "outputs": []
    },
    {
      "cell_type": "code",
      "source": [
        "# 과대적합 : 훈련 세트에서 점수가 굉장히 좋았는데 테스트 세트에서는 점수가 굉장히 나쁜 경우\n",
        "# 과소적합 : 훈련 세트보다 테스트 세트의 점수가 높거나 두 점수가 모두 너무 낮은 경우"
      ],
      "metadata": {
        "id": "tTWaKpgGlfc9"
      },
      "execution_count": 40,
      "outputs": []
    },
    {
      "cell_type": "code",
      "source": [],
      "metadata": {
        "id": "nRtF888Hl40y"
      },
      "execution_count": null,
      "outputs": []
    }
  ]
}
