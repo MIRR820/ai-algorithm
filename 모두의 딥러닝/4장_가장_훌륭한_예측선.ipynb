{
  "nbformat": 4,
  "nbformat_minor": 0,
  "metadata": {
    "colab": {
      "provenance": [],
      "collapsed_sections": [],
      "authorship_tag": "ABX9TyNTxir7xGxoraqGsevlam5B",
      "include_colab_link": true
    },
    "kernelspec": {
      "name": "python3",
      "display_name": "Python 3"
    },
    "language_info": {
      "name": "python"
    }
  },
  "cells": [
    {
      "cell_type": "markdown",
      "metadata": {
        "id": "view-in-github",
        "colab_type": "text"
      },
      "source": [
        "<a href=\"https://colab.research.google.com/github/MIRR820/ai-algorithm/blob/main/%EB%AA%A8%EB%91%90%EC%9D%98%20%EB%94%A5%EB%9F%AC%EB%8B%9D/4%EC%9E%A5_%EA%B0%80%EC%9E%A5_%ED%9B%8C%EB%A5%AD%ED%95%9C_%EC%98%88%EC%B8%A1%EC%84%A0.ipynb\" target=\"_parent\"><img src=\"https://colab.research.google.com/assets/colab-badge.svg\" alt=\"Open In Colab\"/></a>"
      ]
    },
    {
      "cell_type": "markdown",
      "source": [
        "최소 제곱 구하기 - 기울기와 절편 구하기"
      ],
      "metadata": {
        "id": "aDk_nc-UBBbu"
      }
    },
    {
      "cell_type": "code",
      "source": [
        "import numpy as np\n",
        "\n",
        "x = np.array([2, 4, 6, 8])      # 공부시간\n",
        "y = np.array([81, 93, 91 ,97])  # 점수\n",
        "\n",
        "mx = np.mean(x)   # x값의 평균\n",
        "my = np.mean(y)   # y값의 평균\n",
        "\n",
        "print(mx, my)"
      ],
      "metadata": {
        "colab": {
          "base_uri": "https://localhost:8080/"
        },
        "id": "GraSigjABHa9",
        "outputId": "9c1fdce3-dad2-4f5a-de55-9990b7b109d9"
      },
      "execution_count": 1,
      "outputs": [
        {
          "output_type": "stream",
          "name": "stdout",
          "text": [
            "5.0 90.5\n"
          ]
        }
      ]
    },
    {
      "cell_type": "markdown",
      "source": [
        "기울기 구하기\n",
        "기울기 공식 = (x-mx)(y-my)의 합 / (x-mx)**2의 합"
      ],
      "metadata": {
        "id": "COgq3vHfB9Rc"
      }
    },
    {
      "cell_type": "code",
      "source": [
        "divisor = sum([(i - mx)**2 for i in x])     # 분모\n",
        "\n",
        "def top(x, mx, y, my):\n",
        "  d = 0\n",
        "  for i in range(len(x)):\n",
        "    d += (x[i] - mx) * (y[i] - my)\n",
        "  return d\n",
        "\n",
        "dividend = top(x, mx, y, my)                # 분자\n",
        "\n",
        "print(divisor, dividend)"
      ],
      "metadata": {
        "colab": {
          "base_uri": "https://localhost:8080/"
        },
        "id": "QX7x2rRWByu8",
        "outputId": "26d36822-4644-4508-bf87-3620e7a8664f"
      },
      "execution_count": 2,
      "outputs": [
        {
          "output_type": "stream",
          "name": "stdout",
          "text": [
            "20.0 46.0\n"
          ]
        }
      ]
    },
    {
      "cell_type": "markdown",
      "source": [
        "기울기와 절편 - y = ax + b"
      ],
      "metadata": {
        "id": "AMvT45nCDFQG"
      }
    },
    {
      "cell_type": "code",
      "source": [
        "a = dividend / divisor            # 기울기\n",
        "b = my - (mx*a)                   # 절편\n",
        "\n",
        "print(a, b)"
      ],
      "metadata": {
        "colab": {
          "base_uri": "https://localhost:8080/"
        },
        "id": "fxVkUauMC_BE",
        "outputId": "bd6b0f3c-7947-4470-8830-54108c25ed22"
      },
      "execution_count": 3,
      "outputs": [
        {
          "output_type": "stream",
          "name": "stdout",
          "text": [
            "2.3 79.0\n"
          ]
        }
      ]
    },
    {
      "cell_type": "markdown",
      "source": [
        "평균 제곱 오차(mse) - 가상의 기울기와 절편을 구한 후 수정하는 과정에서 오차값을 구하는 방법<br/>\n",
        "평균 제곱 오차(mse) = sum(y-fy)**2/n  fy는 예측값"
      ],
      "metadata": {
        "id": "M7NC4ZRQElLg"
      }
    },
    {
      "cell_type": "code",
      "source": [
        "fake_a = 3    # 가상의 기울기\n",
        "fake_b = 76   # 가상의 절편\n",
        "\n",
        "x = np.array([2, 4, 6, 8])      # 공부시간\n",
        "y = np.array([81, 93, 91 ,97])  # 점수\n",
        "\n",
        "def predict(x):\n",
        "  return fake_a*x + fake_b    # 예측한 함수\n",
        "\n",
        "predict_result = []           # 예측값이 들어갈 리스트\n",
        "\n",
        "for i in range(len(x)):\n",
        "  predict_result.append(predict(x[i]))\n",
        "  print(\"공부시간=%.f, 실제점수=%.f, 예측점수=%.f\" % (x[i], y[i], predict(x[i])))\n",
        "\n",
        "n = len(x)\n",
        "def mse(y, y_pred):\n",
        "  return (1/n) * sum((y-y_pred)**2)\n",
        "\n",
        "print(\"평균 제곱 오차: \" + str(mse(y,predict_result)))"
      ],
      "metadata": {
        "colab": {
          "base_uri": "https://localhost:8080/"
        },
        "id": "Gd5H7Mb0DVij",
        "outputId": "89067199-beee-45c3-b6a9-fa9ff7935775"
      },
      "execution_count": 4,
      "outputs": [
        {
          "output_type": "stream",
          "name": "stdout",
          "text": [
            "공부시간=2, 실제점수=81, 예측점수=82\n",
            "공부시간=4, 실제점수=93, 예측점수=88\n",
            "공부시간=6, 실제점수=91, 예측점수=94\n",
            "공부시간=8, 실제점수=97, 예측점수=100\n",
            "평균 제곱 오차: 11.0\n"
          ]
        }
      ]
    },
    {
      "cell_type": "code",
      "source": [],
      "metadata": {
        "id": "YouzeDn5Guox"
      },
      "execution_count": null,
      "outputs": []
    }
  ]
}